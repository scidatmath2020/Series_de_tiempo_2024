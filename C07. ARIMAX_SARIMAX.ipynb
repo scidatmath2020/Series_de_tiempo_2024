{
 "cells": [
  {
   "cell_type": "markdown",
   "id": "b4ec90d5-8e26-4135-a7a8-4105fafdf1af",
   "metadata": {},
   "source": [
    "![imagenes](logo.png)"
   ]
  },
  {
   "cell_type": "markdown",
   "id": "b36e4527-7ca8-4d57-8a6b-f8de677bdfaa",
   "metadata": {},
   "source": [
    "# ARIMAX\n",
    "\n",
    "ARIMAX (AutoRegressive Integrated Moving Average with eXogenous variables) es una extensión del modelo ARIMA que incluye **variables exógenas** (factores externos que influyen en la serie temporal). Este modelo es ideal cuando se busca capturar la relación entre una serie temporal objetivo y otras variables predictoras externas.\n",
    "\n",
    "---\n",
    "\n",
    "## Componentes del Modelo ARIMAX\n",
    "\n",
    "Un modelo ARIMAX combina los mismos elementos de un modelo ARIMA con variables exógenas:\n",
    "\n",
    "1. **AR (AutoRegressive)**:\n",
    "   - Parte autorregresiva, que utiliza valores pasados de la serie para predecir los futuros. Controlada por el parámetro $p$.\n",
    "\n",
    "2. **I (Integrated)**:\n",
    "   - Parte integrada, que hace estacionaria la serie temporal mediante diferenciación. Controlada por el parámetro $d$.\n",
    "\n",
    "3. **MA (Moving Average)**:\n",
    "   - Parte de media móvil, que modela el error en términos de errores pasados. Controlada por el parámetro $q$.\n",
    "\n",
    "4. **X (Exogenous)**:\n",
    "   - Variables externas (exógenas) que afectan la serie temporal objetivo.\n",
    "\n",
    "---\n",
    "\n",
    "## Fórmula General\n",
    "\n",
    "El modelo ARIMAX puede expresarse como:\n",
    "\n",
    "$$\n",
    "(1-\\phi_1)(1-\\phi_2)...(1-\\phi_p)\\Delta^d X_t=\\theta_1\\varepsilon_{t-1}+\\theta_2\\varepsilon_{t-2}+...+\\theta_q\\varepsilon_{t-q}+ \\beta_1 Y_{1t} + \\beta_2 Y_{2t} + \\dots + \\varepsilon_t\n",
    "$$\n",
    "\n",
    "Donde:\n",
    "- $X_t$: Serie temporal objetivo en el tiempo $t$.\n",
    "- $X_{t-k}$: Valores retardados de la serie.\n",
    "- $\\varepsilon_t$: Error aleatorio en el tiempo $t$.\n",
    "- $Y_{it}$: Variables exógenas.\n",
    "- $\\phi_i$: Coeficientes autorregresivos.\n",
    "- $\\theta_i$: Coeficientes de la media móvil.\n",
    "- $\\beta_i$: Coeficientes de las variables exógenas.\n",
    "\n",
    "---\n",
    "\n",
    "## Ventajas\n",
    "\n",
    "1. **Considera factores externos**: Incorpora información externa que puede influir en la serie objetivo.\n",
    "2. **Mayor precisión**: Mejora las predicciones si se seleccionan variables exógenas relevantes.\n",
    "3. **Versatilidad**: Captura la dinámica interna de la serie y su relación con variables externas.\n",
    "\n",
    "---\n",
    "\n",
    "## Limitaciones\n",
    "\n",
    "1. **Complejidad**: Seleccionar parámetros $p, d, q$ y variables exógenas requiere mayor esfuerzo.\n",
    "2. **Relación lineal**: Asume una relación lineal entre las variables exógenas y la serie objetivo.\n",
    "3. **Datos estacionarios**: Requiere que la serie sea estacionaria (o transformada).\n",
    "\n",
    "---\n",
    "\n",
    "## Aplicaciones\n",
    "\n",
    "1. **Economía y finanzas**: Modelar precios con factores como inflación o tipo de cambio.\n",
    "2. **Ventas y demanda**: Predecir ventas en función de campañas publicitarias o precios.\n",
    "3. **Clima**: Analizar precipitaciones o temperaturas considerando fenómenos externos.\n",
    "\n",
    "---\n",
    "\n"
   ]
  },
  {
   "cell_type": "markdown",
   "id": "a597f21d-af01-4498-a1c3-9593d7a5b2d5",
   "metadata": {},
   "source": [
    "# SARIMAX\n",
    "\n",
    "**SARIMAX** (Seasonal AutoRegressive Integrated Moving Average with eXogenous regressors) es un modelo estadístico avanzado para el análisis y la predicción de series temporales. Es una extensión del modelo **SARIMA** que incluye la capacidad de incorporar variables exógenas (factores externos que podrían influir en la serie temporal).\n",
    "\n",
    "## Componentes del Modelo SARIMAX\n",
    "\n",
    "SARIMAX combina varias características para modelar tendencias, estacionalidad, ruido y efectos de variables externas. Los componentes principales son:\n",
    "\n",
    "### 1. **ARIMA (AutoRegressive Integrated Moving Average)**\n",
    "- **AR (AutoRegresivo)**: Utiliza valores pasados de la serie temporal como predictores. Este término se expresa con un parámetro $p$, que representa el número de retardos.\n",
    "- **I (Integración)**: Se diferencia la serie temporal para hacerla estacionaria. El parámetro $d$ indica cuántas veces se diferencia.\n",
    "- **MA (Media Móvil)**: Modela los errores residuales como una combinación lineal de errores pasados. Este término se expresa con un parámetro $q$.\n",
    "\n",
    "### 2. **S (Seasonal)**: Manejo de patrones estacionales que se repiten a intervalos regulares.\n",
    "- Los componentes estacionales se describen como $(P, D, Q, s)$:\n",
    "  - **$P$**: Orden del componente auto regresivo estacional.\n",
    "  - **$D$**: Orden de diferenciación estacional.\n",
    "  - **$Q$**: Orden del componente de media móvil estacional.\n",
    "  - **$s$**: Periodo de la estacionalidad (por ejemplo, $12$ para datos mensuales con un ciclo anual).\n",
    "\n",
    "### 3. **X (eXogenous Variables)**: Variables externas que pueden influir en la serie temporal.\n",
    "- Estas son variables predictoras externas (por ejemplo, factores macroeconómicos, promociones, clima, etc.) que se incluyen en el modelo.\n",
    "\n",
    "Para simplificar, mostramos el modelo con $d=D=0$. Es decir, sin diferenciar:\n",
    "\n",
    "$$X_t=\\sum_{i=1}^p\\varphi_iX_{t-i}+\\sum_{i=1}^q\\theta_i\\varepsilon_{t-i}+\\sum_{i=1}^P\\Phi_iX_{t-si}+\\sum_{i=1}^Q\\Theta_i\\varepsilon_{t-si}+\\varepsilon_t+\\sum_{i=1}^k\\beta_iY_{it}$$\n",
    "\n",
    "Como regla general tenemos $d+D\\le 2$\n",
    "\n",
    "\n",
    "## Ventajas de SARIMAX\n",
    "\n",
    "1. **Manejo de Estacionalidad y Tendencia**: Puede modelar series con componentes estacionales y tendencias no estacionarias.\n",
    "2. **Incorporación de Variables Externas**: Mejora la capacidad predictiva al considerar factores externos relevantes.\n",
    "3. **Predicción Dinámica**: Útil para realizar predicciones a corto y largo plazo.\n",
    "4. **Flexibilidad**: Combina lo mejor de ARIMA, SARIMA y la regresión multivariable.\n",
    "\n"
   ]
  },
  {
   "cell_type": "markdown",
   "id": "c176c202-618b-4f43-a23d-18158f6d3b60",
   "metadata": {},
   "source": [
    "**Ejemplo**\n",
    "\n",
    "Tomemos $(p,d,q)=(1,0,2)$, $s=12$ y $(P,D,Q)=(2,0,1)$"
   ]
  },
  {
   "cell_type": "markdown",
   "id": "821f1836-1606-40f2-a7e0-f3aa097776fa",
   "metadata": {},
   "source": [
    "$X_t=\\varphi_1X_{t-1}+\\theta_1\\varepsilon_{t-1}+\\theta_2\\varepsilon_{t-2}+\\Phi_1X_{t-12}+\\Phi_2X_{t-24}+\\Theta_1X_{t-12}+\\varepsilon_t$"
   ]
  },
  {
   "cell_type": "markdown",
   "id": "b514b383-7562-4d17-bb24-07379fdce707",
   "metadata": {},
   "source": [
    "**Ejemplo**\n",
    "\n",
    "Tomemos $(p,d,q)=(2,1,2)$, $s=12$, y $(P,D,Q)=(2,1,2)$\n",
    "\n",
    "$$(1-\\varphi_1)(1-\\varphi_2)(1-B^{12})(1-B)^dX_t=\\theta_1\\epsilon_{t-1}+\\theta_2\\epsilon_{t-2}+\\Phi_1X_{t-12}+\\Phi_2X_{t-24}+\\Theta_1\\epsilon_{t-12}+\\Theta_2\\epsilon_{t-24}+\\varepsilon_t$$"
   ]
  },
  {
   "cell_type": "markdown",
   "id": "3a9d82f5-080f-4db2-a462-3cdb0cbc9aee",
   "metadata": {},
   "source": [
    "Operador de desplazamiento: $BX_t=X_{t-1}$, entonces $B^nX_t=X_{t-n}$\n",
    "\n",
    "$\\Delta X_t=X_t-X_{t-1}=(1-B)X_t$"
   ]
  },
  {
   "cell_type": "markdown",
   "id": "81e372dc-edd9-4ac8-9a7f-d3dc18b4167d",
   "metadata": {},
   "source": [
    "**Ejemplo**\n",
    "\n",
    "Para $s=1$ (sin importar si son horas, meses, años, días, etc...) SARIMA = ARIMA"
   ]
  }
 ],
 "metadata": {
  "kernelspec": {
   "display_name": "Python [conda env:base] *",
   "language": "python",
   "name": "conda-base-py"
  },
  "language_info": {
   "codemirror_mode": {
    "name": "ipython",
    "version": 3
   },
   "file_extension": ".py",
   "mimetype": "text/x-python",
   "name": "python",
   "nbconvert_exporter": "python",
   "pygments_lexer": "ipython3",
   "version": "3.12.7"
  }
 },
 "nbformat": 4,
 "nbformat_minor": 5
}
