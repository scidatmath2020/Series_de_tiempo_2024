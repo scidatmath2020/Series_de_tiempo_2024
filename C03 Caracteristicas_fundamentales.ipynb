{
 "cells": [
  {
   "cell_type": "markdown",
   "id": "5b612307",
   "metadata": {},
   "source": [
    "![imagenes](logo.png)"
   ]
  },
  {
   "cell_type": "markdown",
   "id": "13786255",
   "metadata": {},
   "source": [
    "# Características fundamentales\n",
    "\n",
    "## El ruído blanco\n",
    "\n",
    "Se trata de un tipo especial de serie de tiempo donde los datos no siguen ningún patrón, por lo cual no podemos predecir el futuro.\n",
    "\n",
    "Se caracteriza por las siguientes condiciones:\n",
    "* Media constante\n",
    "* Varianza constante\n",
    "* Autocorrelación cero\n",
    "\n",
    "Técnicamente, recordemos que para cada tiempo $t$ tomamos la medida de la característica $X$. Esto es $X_t$. Por lo tanto $X_t$ es una variable aleatoria. Las condiciones anteriores se traducen matemáticamente en:\n",
    "* $E[X_t]=\\mu$ para toda $t$ ($\\mu$ no depende de $t$)\n",
    "* $Var(X_t)=\\sigma^2$ para toda $t$ ($\\sigma$ no depende de $t$)\n",
    "* $\\rho(X_t,X_s)=0$ para cualesquiera tiempos $s$ y $t$.\n",
    "\n",
    "Visualmente, esto significa que el gráfico se verá *acostado* y tendrá un *ancho* casi constante. Por otra parte, la condición de autocorrelación 0 significa que **no hay una dependencia lineal entre dos instantes cualesquiera de tiempo** (y por lo tanto, si además la característica $X$ es una gaussiana, entonces las variables $X_t$ y $X_s$ son independientes)."
   ]
  },
  {
   "cell_type": "markdown",
   "id": "d72a84e3",
   "metadata": {},
   "source": [
    "![imagenes](im021.png)"
   ]
  },
  {
   "cell_type": "markdown",
   "id": "2f467f86",
   "metadata": {},
   "source": [
    "## Caminata aleatoria\n",
    "\n",
    "Una caminata aleatoria es una seria de tiempo $W$ que cumple que $$W_t=W_{t-1}+\\varepsilon_t$$ donde $\\varepsilon$ es un ruido blanco con media constante 0.\n",
    "\n",
    "Básicamente lo que nos está diciendo es que la característica $W$ en el presente depende muy fuertemente del pasado inmediato salvo por una perturbación que no podemos predecir (un caos)."
   ]
  },
  {
   "cell_type": "markdown",
   "id": "2c75aacc",
   "metadata": {},
   "source": [
    "![imagenes](im022.png)"
   ]
  },
  {
   "cell_type": "markdown",
   "id": "2f125b32",
   "metadata": {},
   "source": [
    "## Estacionariedad\n",
    "\n",
    "Ya hemos hablado anteriormente de la estacionariedad. La idea es que una serie es estacionario si permanece estable a lo largo del tiempo. Es decir, sus valores oscilan al rededor de un cierto valor, y por lo tanto los gráficos se ven de manera horizontal.\n",
    "\n",
    "Formalmente, una serie es estacionaria cuando la media $E[X_t]$ y la varianza $Var(X_t)$ son constantes. Es decir, no dependen del instante $t$. Estas condiciones se conocen como **condiciones de primer y segundo orden**.\n",
    "\n",
    "Como notarás, se trata precisamente de las primeras dos características del ruido blanco.\n",
    "\n",
    "De esta manera, la no estacionariedad significa que la media cambia, o que la varianza cambia. El cambio en la media se observará como una tendencia (la serie tiende a subir, bajar e incluso *bailar*, como la caminata aleatoria), en tanto que un cambio en la varianza se observará con bandas más anchas y más cortas.\n",
    "\n"
   ]
  },
  {
   "cell_type": "markdown",
   "id": "5f6a3c43",
   "metadata": {},
   "source": [
    "### Tipos de estacionariedad\n",
    "\n",
    "Existen dos tipos de estacionariedad: débil y fuerte. Ambos cumplen las condiciones de primer y segundo orden. Pero tienen una diferencia sutil pero importante:\n",
    "\n",
    "**Estacionariedad débil:** las covarianzas sólo dependen del tamaño de paso. \n",
    "\n",
    "Es decir, sin importar el momento $t$, para cualquier $h$ tenemos que $$Cov(X_t,X_{t+h})=\\gamma(h)$$\n",
    "\n",
    "Esto significa que la influencia de la característica en el momento $t$ sobre la misma característica en el momento $t+h$ únicamente depende del tiempo ocurrido entre ambas medidas, que es $h$, y no del momento $t$.\n",
    "\n",
    "**Estacionariedad fuerte:** exige que todas las propiedades estadísticas (no solo las de primer y segundo orden) de la serie sean invariantes bajo traslaciones en el tiempo. Es decir, la distribución conjunta de cualquier subconjunto de valores debe ser idéntica si se desplazan en el tiempo. Matemáticamente, significa que si $h$ es fija entonces el vector aleatorio \n",
    "\n",
    "$$(X_t,X_{t+1},...,X_{t+h})$$ \n",
    "\n",
    "siempre sigue la misma ley de probabilidades sin importar el valor de $t$. Esta condición es mucho más difícil de cumplir que la estacionariedad débil, y de hecho muy difícilmente se presenta con datos tomados de la realidad, de modo que las técnicas más importantes en el análisis de series de tiempo se aplican usualmente con la estacionariedad débil.\n",
    "\n",
    "### Prueba de estacionariedad: Dickey-Fuller (DF)\n",
    "\n",
    "Dicho lo anterior, es de vital importancia saber si nuestra serie de tiempo es estacionaria (en sentido débil). Para ello, se tiene bien diseñada una *prueba de hipótesis* que nos permite someter a juicio la naturaleza estacionaria (o no estacionaria) de las series de tiempo: **Prueba de Dickey-Fuller (DF)**.\n",
    "\n",
    "La prueba tiene la siguiente estructura:\n",
    "\n",
    "$$\\left\\{\\begin{array}{l}H_0\\,:\\,\\mbox{ la serie NO es estacionaria}\\\\H_1\\,:\\,\\mbox{ la serie es estacionaria}\\end{array}\\right.$$\n",
    "\n",
    "Recordemos el funcionamiento de las pruebas de hipótesis: en principio no tenemos acceso a todo el fenómeno; es decir, el conocimiento del fenómeno *cualquier instante de tiempo*. Únicamente tenemos el conocimiento del mismo a través de los periodos en los que tomamos las mediciones. Esta sería nuestra muestra.\n",
    "\n",
    "Precisamente, la **inferencia** es la generalización de ciertas características de la muestra hacia toda la población. Nuestro trabajo en pruebas de hipótesis es el análogo a lo que hace un fiscal durante un jucio: **debemos presentar evidencia para rechazar la hipótesis nula**. Esto no significa probar que la hipótesis nula es falsa, sino evaluar si los datos observados son consistentes o no con $H_0$.\n",
    "\n",
    "Con esto en mente, se define la autocorrelación de un retraso en el tiempo $t$ como \n",
    "\n",
    "$$\\varphi_1=\\rho(X_t,X_{t-1})$$\n",
    "\n",
    "Es decir, es la correlación del presente con el pasado inmediato.\n",
    "\n",
    "En estos términos, la prueba de hipótesis se traduce en \n",
    "\n",
    "$$\\left\\{\\begin{array}{l}H_0\\,:\\,\\varphi_1=1\\\\H_1\\,:\\,\\varphi_1<1\\end{array}\\right.$$\n",
    "\n",
    "A continuación se calcula el estadístico de prueba $\\lambda_0$, el cuál nos lo dirá **R** o **Python**, y dependiendo de su valor se tomará la decisión con cierta confianza: rechazar (o no) $H_0$. Es decir, la serie es (o no) estacionaria con un cierto nivel de confianza."
   ]
  },
  {
   "cell_type": "markdown",
   "id": "c1c03ce1",
   "metadata": {},
   "source": [
    "| Lenguaje | Paquetería                           | Función         | Ejemplo                              |\n",
    "|:--------:|:-----------------------------------:|:---------------:|:------------------------------------:|\n",
    "|  **Python**  | `import statsmodels.tsa.stattools as sts` | `sts.adfuller()` | `sts.adfuller(tabla[\"columna\"])` |\n",
    "|**R**|`library(tseries)`|`adf.test()` |`adf.test(tabla[\"columna\"])`|\n",
    "\n",
    "Las conclusiones siguen estas reglas. Para significación $\\alpha$ se tiene\n",
    "\n",
    "| *p*-valor   | Decisión          | Significado                  |\n",
    "|-------------|:-----------------:|-----------------------------|\n",
    "| $< 1-\\alpha$    | Rechazar $H_0$    | La serie es estacionaria    |\n",
    "| $\\ge 1-\\alpha$  | No rechazar $H_0$ | La serie no es estacionaria |\n",
    "\n",
    "Las $\\alpha$'s más usuales son 0.90, 0.95 y 0.99 por lo cual se busca un *p*-valor menor que 0.1, 0.05, 0.01.\n",
    "\n",
    "Así, por ejemplo, si el *p*-valor es 0.003 diríamos que con una confianza del 99% la serie es estacionaria.\n"
   ]
  }
 ],
 "metadata": {
  "kernelspec": {
   "display_name": "Python 3 (ipykernel)",
   "language": "python",
   "name": "python3"
  },
  "language_info": {
   "codemirror_mode": {
    "name": "ipython",
    "version": 3
   },
   "file_extension": ".py",
   "mimetype": "text/x-python",
   "name": "python",
   "nbconvert_exporter": "python",
   "pygments_lexer": "ipython3",
   "version": "3.11.4"
  }
 },
 "nbformat": 4,
 "nbformat_minor": 5
}
