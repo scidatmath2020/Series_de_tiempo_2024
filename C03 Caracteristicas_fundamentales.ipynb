{
 "cells": [
  {
   "cell_type": "markdown",
   "id": "59fe08b8",
   "metadata": {},
   "source": [
    "![imagenes](logo.png)"
   ]
  },
  {
   "cell_type": "markdown",
   "id": "7bdb1a63",
   "metadata": {},
   "source": [
    "# Características fundamentales\n",
    "\n",
    "## El ruído blanco\n",
    "\n",
    "Se trata de un tipo especial de serie de tiempo donde los datos no siguen ningún patrón, por lo cual no podemos predecir el futuro.\n",
    "\n",
    "Se caracteriza por las siguientes condiciones:\n",
    "* Media constante\n",
    "* Varianza constante\n",
    "* Autocorrelación cero\n",
    "\n",
    "Técnicamente, recordemos que para cada tiempo $t$ tomamos la medida de la característica $X$. Esto es $X_t$. Por lo tanto $X_t$ es una variable aleatoria. Las condiciones anteriores se traducen matemáticamente en:\n",
    "* $E[X_t]=\\mu$ para toda $t$ ($\\mu$ no depende de $t$)\n",
    "* $Var(X_t)=\\sigma^2$ para toda $t$ ($\\sigma$ no depende de $t$)\n",
    "* $\\rho(X_t,X_s)=0$ para cualesquiera tiempos $s$ y $t$.\n",
    "\n",
    "Visualmente, esto significa que el gráfico se verá *acostado* y tendrá un *ancho* casi constante. Por otra parte, la condición de autocorrelación 0 significa que **no hay una dependencia lineal entre dos instantes cualesquiera de tiempo** (y por lo tanto, si además la característica $X$ es una gaussiana, entonces las variables $X_t$ y $X_s$ son independientes)."
   ]
  },
  {
   "cell_type": "markdown",
   "id": "6bae8f82",
   "metadata": {},
   "source": [
    "![imagenes](im021.png)"
   ]
  },
  {
   "cell_type": "markdown",
   "id": "531043dc",
   "metadata": {},
   "source": [
    "## Caminata aleatoria\n",
    "\n",
    "Una caminata aleatoria es una seria de tiempo $X$ que cumple que $$W_t=W_{t-1}+\\varepsilon_t$$ donde $\\varepsilon$ es un ruido blanco con media constante 0.\n",
    "\n",
    "Básicamente lo que nos está diciendo es que la característica $W$ en el presente depende muy fuertemente del pasado inmediato salvo por una perturbación que no podemos predecir (un caos)."
   ]
  },
  {
   "cell_type": "markdown",
   "id": "7263662b",
   "metadata": {},
   "source": [
    "![imagenes](im022.png)"
   ]
  }
 ],
 "metadata": {
  "kernelspec": {
   "display_name": "Python 3 (ipykernel)",
   "language": "python",
   "name": "python3"
  },
  "language_info": {
   "codemirror_mode": {
    "name": "ipython",
    "version": 3
   },
   "file_extension": ".py",
   "mimetype": "text/x-python",
   "name": "python",
   "nbconvert_exporter": "python",
   "pygments_lexer": "ipython3",
   "version": "3.11.4"
  }
 },
 "nbformat": 4,
 "nbformat_minor": 5
}
