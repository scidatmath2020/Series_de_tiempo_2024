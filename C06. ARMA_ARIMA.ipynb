{
 "cells": [
  {
   "cell_type": "markdown",
   "id": "39869b76",
   "metadata": {},
   "source": [
    "![imagenes](logo.png)"
   ]
  },
  {
   "cell_type": "markdown",
   "id": "dd12fb6f",
   "metadata": {},
   "source": [
    "# ARMA\n",
    "\n",
    "Ya sabemos cómo incorporar los valores pasados en el modelo mediante modelos autorregresivos, e incorporar los errores calculados en el pasado mediante los modelos de medias móviles. Ahora aprenderemos a combinar ambos. Por ejemplo:\n",
    "\n",
    "$$ARMA(1,1):\\,X_t=c+\\varphi_1X_{t-1}+\\theta_1\\varepsilon_{t-1}+\\varepsilon_t$$\n",
    "\n",
    "Esto es lo que se conoce como un modelo **autorregresivo con medias móviles: ARMA(P,Q)** donde $P=p$ representa los retrasos autorregresivos y $Q=q$ representa los retrasos de medias móviles:\n",
    "\n",
    "$$ARMA(p,q):\\,\\,X_t=c+\\varphi_1X_{t-1}+\\varphi_2X_{t-2}+...+\\varphi_pX_{t-p}+\\theta_1 \\varepsilon_{t-1}+\\theta_2\\varepsilon_{t-2}+...+\\theta_q\\varepsilon_{t-q}+\\varepsilon_t$$\n",
    "\n",
    "Para calcular $p$ de la parte autorregresiva, se utiliza la función de autocorrelación. Para calcular $q$ de la parte de media móvil, se utiliza la función de autocorrelación parcial.\n",
    "\n"
   ]
  },
  {
   "cell_type": "markdown",
   "id": "81d61970",
   "metadata": {},
   "source": [
    "$$X_t=c+\\varphi_{12}X_{t-12}+\\theta_1\\varepsilon_{t-1}+\\varepsilon$$"
   ]
  },
  {
   "cell_type": "markdown",
   "id": "81421792",
   "metadata": {},
   "source": [
    "# ARIMA (Autoregressive Integrated Moving Average)\n",
    "\n",
    "## Introducción\n",
    "ARIMA es un modelo estadístico ampliamente utilizado en el análisis de series temporales para modelar y predecir valores futuros de una secuencia de datos basada en patrones históricos. Es especialmente útil para datos con tendencias y estacionalidad después de realizar ciertas transformaciones.\n",
    "\n",
    "### Componentes del modelo ARIMA\n",
    "Un modelo ARIMA se define por tres parámetros: \\(p\\), \\(d\\) y \\(q\\):\n",
    "\n",
    "1. **AR (Autoregresivo, \\(p\\))**: \n",
    "   Representa la relación entre un valor actual y sus valores anteriores. \\(p\\) indica el número de retardos (lags) incluidos en el modelo.\n",
    "\n",
    "2. **I (Integrado, \\(d\\))**:  \n",
    "   Indica el número de diferenciaciones necesarias para hacer que una serie no estacionaria se vuelva estacionaria.\n",
    "\n",
    "3. **MA (Media Móvil, \\(q\\))**:  \n",
    "   Modela la relación entre un valor actual y los errores de predicción pasados. \\(q\\) es el número de errores pasados considerados.\n",
    "\n",
    "El modelo ARIMA se denota como **ARIMA(\\(p, d, q\\))**.\n",
    "\n",
    "En particular, para  **ARIMA(1, 1, 1)**\n",
    "\n",
    "$$\\Delta y_t = \\phi_1 \\Delta y_{t-1} + \\theta_1 \\varepsilon_{t-1} + \\varepsilon_t$$\n",
    "\n",
    "\n",
    "Expandiendo la Diferenciación, recordando que $\\Delta y_t = y_t - y_{t-1}$, podemos reescribir la ecuación como:\n",
    "\n",
    "$$\n",
    "y_t = y_{t-1} + \\phi_1 (y_{t-1} - y_{t-2}) + \\theta_1 \\varepsilon_{t-1} + \\varepsilon_t\n",
    "$$\n",
    "\n",
    "Donde:\n",
    "- $y_t$: Valor de la serie en el tiempo $t$.\n",
    "- $\\Delta y_t$: Primera diferencia, es decir, $y_t - y_{t-1}$.\n",
    "- $\\phi_1$: Coeficiente autorregresivo (AR).\n",
    "- $\\theta_1$: Coeficiente de media móvil (MA).\n",
    "- $\\varepsilon_t$: Error aleatorio en el tiempo $t$.\n",
    "\n",
    "Otro caso de interés es **ARIMA(p, 2, q)**, el cual viene dado por \n",
    "\n",
    "$$(1-\\phi_1)(1-\\phi_2)...(1-\\phi_p)\\Delta^2 Y_t=\\theta_1\\epsilon_{t-1}+\\theta_2\\epsilon_{t-2}+...+\\theta_q\\epsilon_{t-q}+\\epsilon_t$$\n",
    "\n",
    "donde \n",
    "\n",
    "$$\\Delta^2 Y_t=Y_t-2Y_{t-1}+Y_{t-2}$$\n",
    "\n",
    "\n",
    "---\n",
    "\n",
    "## Requisitos para usar ARIMA\n",
    "\n",
    "Para que ARIMA funcione correctamente, la serie temporal debe ser **estacionaria**:\n",
    "- La media, varianza y autocorrelación deben ser constantes en el tiempo.\n",
    "\n",
    "### Transformaciones comunes para lograr estacionariedad:\n",
    "- **Diferenciación**: Restar el valor de un periodo anterior para eliminar tendencias.\n",
    "- **Transformaciones logarítmicas**: Reducir variaciones en amplitud.\n",
    "\n",
    "---\n",
    "\n",
    "## Pasos para construir un modelo ARIMA\n",
    "1. **Explorar la serie temporal**: Graficar los datos y observar tendencia, estacionalidad y ruido.\n",
    "2. **Transformar la serie para lograr estacionariedad**, si es necesario.\n",
    "3. **Identificar los parámetros \\(p\\), \\(d\\) y \\(q\\)** usando gráficos de autocorrelación (ACF) y autocorrelación parcial (PACF).\n",
    "4. **Ajustar el modelo ARIMA** con los parámetros seleccionados.\n",
    "5. **Evaluar el modelo** mediante métricas como AIC (Criterio de Información de Akaike) o BIC (Criterio de Información Bayesiano).\n",
    "6. **Realizar predicciones** con el modelo ajustado.\n",
    "\n",
    "De esta manera, un ARIMA(p,d,q) es un ARMA(p,q) aplicado a una serie que ha sido diferenciada d veces para volverla estacionaria.\n",
    "\n",
    "---\n",
    "\n",
    "## Variantes de ARIMA\n",
    "- **SARIMA (ARIMA Estacional)**: Extiende ARIMA para incluir estacionalidad con parámetros adicionales \\(P, D, Q, m\\).\n",
    "- **ARIMAX**: Incluye variables exógenas para mejorar la predicción.\n",
    "\n",
    "---\n",
    "\n",
    "## Consideraciones finales\n",
    "- Ajustar correctamente los parámetros \\(p, d, q\\) es clave para obtener buenos resultados.\n",
    "- ARIMA es potente, pero requiere experiencia en análisis de series temporales para interpretaciones confiables.\n",
    "\n"
   ]
  }
 ],
 "metadata": {
  "kernelspec": {
   "display_name": "Python [conda env:base] *",
   "language": "python",
   "name": "conda-base-py"
  },
  "language_info": {
   "codemirror_mode": {
    "name": "ipython",
    "version": 3
   },
   "file_extension": ".py",
   "mimetype": "text/x-python",
   "name": "python",
   "nbconvert_exporter": "python",
   "pygments_lexer": "ipython3",
   "version": "3.12.7"
  }
 },
 "nbformat": 4,
 "nbformat_minor": 5
}
