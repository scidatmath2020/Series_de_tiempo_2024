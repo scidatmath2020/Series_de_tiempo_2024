{
 "cells": [
  {
   "cell_type": "markdown",
   "id": "8f1ae2d1",
   "metadata": {},
   "source": [
    "![imagenes](logo.png)"
   ]
  },
  {
   "cell_type": "markdown",
   "id": "c1127810",
   "metadata": {},
   "source": [
    "# C01. Matrices y tablas de datos\n",
    "\n",
    "Las matrices y los dataframes (tablas de datos) son los objetos mas importantes con los cuales trabajamos en Estadística y Ciencia de Datos. Se trata de estructuras donde tenemos la información cruda acerca de nuestro fenómeno de estudio.\n",
    "\n",
    "| Name     | Age | City          | Score |\n",
    "|----------|-----|---------------|-------|\n",
    "| Alice    | 24  | New York      | 88    |\n",
    "| Bob      | 27  | Los Angeles   | 92    |\n",
    "| Charlie  | 22  | Chicago       | 85    |\n",
    "| David    | 32  | Houston       | 95    |\n",
    "| Eve      | 29  | Phoenix       | 90    |\n"
   ]
  },
  {
   "cell_type": "markdown",
   "id": "e40bd465",
   "metadata": {},
   "source": [
    "Para trabajar con ellas, tanto **R** como **Python** tienen *paqueterías especiales* con las cuales trabajar.\n",
    "\n",
    "En **R** seguiremos estos pasos:\n",
    "\n",
    "```r\n",
    "install.packages(\"tidyverse\")\n",
    "library(tidyverse)\n",
    "```\n",
    "\n",
    "En **Python** seguiremos estos pasos:\n",
    "```python\n",
    "pip install numpy\n",
    "pip install pandas\n",
    "import numpy as np\n",
    "import pandas as pd\n",
    "```\n",
    "\n",
    "![imagenes](im01.png)"
   ]
  },
  {
   "cell_type": "markdown",
   "id": "f9b514ef",
   "metadata": {},
   "source": [
    "## Vectores de R y listas de Python\n",
    "\n",
    "La manera más sencilla de entender matrices desde cero es a través de vectores de R y listas de Python. Estos objetos no son otra cosa más que ordenamientos indexados de objetos en forma de *línea recta*.\n",
    "\n",
    "Esto significa que colocamos datos en línea recta donde importa el orden: hay un primer dato; luego un segundo dato; etc...\n",
    "\n",
    "Y además, el ser indexado significa que podemos mandar a llamar cada uno de los elementos por su posición en la recta: puedo mandar a llamar al primer elemento; puedo mandar a llamar al segundo elemento; etc...\n",
    "\n",
    "En **R** la sintaxis para crear un vector de n elementos es \n",
    "```r\n",
    "nombre_del_vector = c(elemento_1, elemento_2,...,elemento_n)\n",
    "```\n",
    "\n",
    "En **Python** la sintaxis para crear una lista de n elementos es \n",
    "```python\n",
    "nombre_de_lista = [elemento_1, elemento_2,...,elemento_n]\n",
    "```\n",
    "\n",
    "Y podemos mandar a llamar a sus elementos mediante la posición que deseamos obtener junto con el nombre del vector o la lista.\n",
    "\n",
    "En **R**\n",
    "```r\n",
    "nombre_del_vector[3] #nos devuelve el elemento en la posición 3 del vector\n",
    "```\n",
    "\n",
    "En **Python**\n",
    "```python\n",
    "nombre_de_lista[3] #nos devuelve el elemento en la posición 4 de la lista ya que python cuenta desde 0\n",
    "```\n",
    "\n",
    "**Ejemplo.**\n",
    "\n",
    "En **R**, si quiero el tercer elemento de los nombres \"Alicia\",\"Juan\",\"Rodrigo\",\"Raúl\",\"Ricardo\":\n",
    "```r\n",
    "personas = c(\"Alicia\",\"Juan\",\"Rodrigo\",\"Raúl\",\"Ricardo\",\"José\")\n",
    "personas[3] \n",
    "```\n",
    "\n",
    "En **Python**, si quiero el tercer elemento de los nombres \"Alicia\",\"Juan\",\"Rodrigo\",\"Raúl\",\"Ricardo\":\n",
    "```r\n",
    "personas = [\"Alicia\",\"Juan\",\"Rodrigo\",\"Raúl\",\"Ricardo\",\"José\"]\n",
    "personas[2]\n",
    "```"
   ]
  },
  {
   "cell_type": "markdown",
   "id": "7aa8412b",
   "metadata": {},
   "source": [
    "## Matrices\n",
    "\n",
    "A diferencia de los vectores y las listas, las matrices son objetos de dos dimensiones. Es decir, tienen filas y columnas, tal como una tabla de datos con ciertas diferencias sutiles que iremos encontrando más adelante.\n",
    "\n",
    "En **R** lo hacemos con la función ``matrix``\n",
    "```r\n",
    "nombre_matriz = matrix(vector_de_datos,nrow)  #nrow es el número de filas que quieres; también puedes utilizar ncol para indicar las columnas\n",
    "```\n",
    "\n",
    "En **Python** lo hacemos con la función ``np.array``\n",
    "```python\n",
    "nombre_matriz = np.array(lista_de_datos).reshape(nrow,ncol)  #nrow es el número de filas que quieres; también puedes utilizar ncol para indicar las columnas\n",
    "```\n",
    "\n",
    "**Ejemplo.**\n",
    "\n",
    "En **R**\n",
    "```r\n",
    "matriz_nombres = matrix(personas,2)\n",
    "```\n",
    "\n",
    "En **Python**\n",
    "```python\n",
    "matriz_nombres = np.array(personas).reshape(3,2)\n",
    "```"
   ]
  },
  {
   "cell_type": "markdown",
   "id": "fc9b91d3",
   "metadata": {},
   "source": [
    "Hay dos características de gran importancia que nos van a interesar saber acerca de las matrices: de qué tipo son los datos que tiene, y cómo están acomodados (cuántas filas y columnas hay).\n",
    "\n",
    "En **R**, lo hacemos así:\n",
    "```r\n",
    "typeof(nombre_matriz)\n",
    "dim(nombre_matriz)\n",
    "```\n",
    "\n",
    "En **Python**, lo hacemos así:\n",
    "```python\n",
    "nombre_matriz.dtype\n",
    "nombre_matriz.shape\n",
    "```\n",
    "**Ejemplo.**\n",
    "\n",
    "En **R**\n",
    "```r\n",
    "typeof(matriz_nombres)\n",
    "dim(matriz_nombres\n",
    "```\n",
    "\n",
    "En **Python**\n",
    "```python\n",
    "matriz_nombres.dtype\n",
    "matriz_nombres.shape\n",
    "```"
   ]
  },
  {
   "cell_type": "markdown",
   "id": "546b9f10",
   "metadata": {},
   "source": [
    "### Indexado y selección en matrices\n",
    "\n",
    "Como dijimos antes, las listas y vectores son colecciones *rectas* de elementos ordenados, de modo que podemos elegir a sus elementos utilizando un índice. Lo mismo sucede con las matrices. La diferencia fundamental es que, como las matrices tienen dos dimensiones, entonces utilizan doble índice: uno para indicar fila y otro para indicar columna.\n",
    "\n"
   ]
  },
  {
   "cell_type": "markdown",
   "id": "34dd4e42",
   "metadata": {},
   "source": [
    "Consideremos la siguiente matriz\n",
    "\n",
    "|      |      |      |\n",
    "|---------------|---------------|---------------|\n",
    "|     1.2345    |     2.3456    |     3.4567    |\n",
    "|     4.5678    |     5.6789    |     6.7890    |\n",
    "|     7.8901    |     8.9012    |     9.0123    |\n",
    "|    10.1234    |    11.2345    |    12.3456    |\n",
    "\n",
    "```r\n",
    "# En R:\n",
    "matriz <- matrix(c(1.2345, 2.3456, 3.4567,4.5678, 5.6789, 6.7890,7.8901, 8.9012, 9.0123, 10.1234, 11.2345, 12.3456), \n",
    "  nrow = 4, byrow = TRUE)\n",
    "```\n",
    "\n",
    "```python\n",
    "matriz = np.array([1.2345, 2.3456, 3.4567,\n",
    "                   4.5678, 5.6789, 6.7890,\n",
    "                   7.8901, 8.9012, 9.0123,10.1234, 11.2345, 12.3456]).reshape(4,3)\n",
    "```"
   ]
  },
  {
   "cell_type": "markdown",
   "id": "8b368bc3",
   "metadata": {},
   "source": [
    "Tanto en **R** como en **Python**, para obtener un elemento de una matriz, SIEMPRE INDICAMOS PRIMERO EL NÚMERO DE FILA Y LUEGO EL NÚMERO DE COLUMNA. **Pero nuevamente, considera que en Python se comienza a contar desde 0**\n",
    "\n",
    "**Ejemplo.** Obtengamos el valor 6.7890 de la matriz anterior mediante indexado. Esto significa obtener el elemento de la segunda fila y tercer columna\n",
    "\n",
    "En **R**\n",
    "```r\n",
    "matriz[2,3]\n",
    "```\n",
    "\n",
    "En **Python**\n",
    "```r\n",
    "matriz[1,2]\n",
    "```"
   ]
  },
  {
   "cell_type": "markdown",
   "id": "911ff5db",
   "metadata": {},
   "source": [
    "También podemos extraer submatrices de la matriz original especificando límites: *quiero la submatriz formada por las filas desde tal hasta tal y las columnas desde cual hasta cual*\n",
    "\n",
    "No obstante, nuevamente en Python, se debe tener cuidado: al límite hasta el que vas a llegar **siempre se le resta un 1**\n",
    "\n",
    "**Ejemplo.** Obtén la siguiente submatriz\n",
    "\n",
    "|      |      |      |\n",
    "|---------------|---------------|---------------|\n",
    "|     1.2345    |     2.3456    |     3.4567    |\n",
    "|     **4.5678**    |     **5.6789**    |     6.7890    |\n",
    "|     **7.8901**    |     **8.9012**    |     9.0123    |\n",
    "|    **10.1234**    |    **11.2345**    |    12.3456    |\n",
    "\n"
   ]
  },
  {
   "cell_type": "markdown",
   "id": "529a6d06",
   "metadata": {},
   "source": [
    "En **R**:\n",
    "```r\n",
    "matriz[2:4,1:2]\n",
    "```\n",
    "\n",
    "En **Python**\n",
    "```python\n",
    "matriz[1:4,0:2]\n",
    "```"
   ]
  },
  {
   "cell_type": "markdown",
   "id": "58e6f5f0",
   "metadata": {},
   "source": [
    "## Dataframes\n",
    "\n",
    "Una vez que hemos entendido cómo se gestionan las matrices, podemos pasar a estudiar las tablas de datos: dataframes.\n",
    "\n",
    "La diferencia principal entre las matrices y los dataframes radica en las columnas. Más explícitamente: en las matrices, todos los datos son del mismo tipo (texto, números, fechas); en tanto que en los dataframes, todos los datos de una misma columna son del mismo tipo. Por ejemplo, puedes tener una columna de textos, otra columna de fechas, otra columna de números, etc.\n",
    "\n",
    "Es importante comentar que en **R**, podemos pensar a los dataframes como colecciones de columnas, donde las columnas son vectores como los que vimos al inicio del capítulo. Eso los vuelve muy fácil de manipular.\n",
    "\n",
    "Por otra parte, **Python** es más complejo en ese sentido. Las columnas de los dataframes son llamadas *series*, que son un tipo especial de lista (como las que vimos al prinicipio).\n",
    "\n",
    "En cualquier caso, las columnas, al ser vectores o listas especiales (series), son colecciones ordendas *en forma de línea recta* y por lo tanto admiten indexado.\n",
    "\n",
    "Pero una gran y útil propiedad de los dataframes es que las columnas tienen nombre, y podemos utilizar dichos nombres para mandar a llamarlas.\n",
    "\n"
   ]
  },
  {
   "cell_type": "markdown",
   "id": "f6c295d6",
   "metadata": {},
   "source": [
    "### Creación de dataframes\n",
    "\n",
    "Consideremos la siguiente tabla:\n",
    "\n",
    "| Name     | Age | City          | Score |\n",
    "|----------|-----|---------------|-------|\n",
    "| Alice    | 24  | New York      | 88    |\n",
    "| Bob      | 27  | Los Angeles   | 92    |\n",
    "| Charlie  | 22  | Chicago       | 85    |\n",
    "| David    | 32  | Houston       | 95    |\n",
    "| Eve      | 29  | Phoenix       | 90    |"
   ]
  },
  {
   "cell_type": "markdown",
   "id": "b327ed17",
   "metadata": {},
   "source": [
    "La manera más sencilla de crear un dataframe desde cero es indicando el nombre de la columna y luego la colección de datos que formarán dicha columna.\n",
    "\n",
    "En **R**\n",
    "```r\n",
    "tabla <- data.frame(\"Name\" = c(\"Alice\", \"Bob\", \"Charlie\", \"David\", \"Eve\"),\n",
    "                    \"Age\" = c(24, 27, 22, 32, 29),\n",
    "                    \"City\" = c(\"New York\", \"Los Angeles\", \"Chicago\", \"Houston\", \"Phoenix\"),\n",
    "                    \"Score\" = c(88, 92, 85, 95, 90))\n",
    "```\n",
    "\n",
    "En **Python**\n",
    "```python\n",
    "tabla = pd.DataFrame({\"Name\": [\"Alice\", \"Bob\", \"Charlie\", \"David\", \"Eve\"],\n",
    "                      \"Age\": [24, 27, 22, 32, 29],\n",
    "                      \"City\": [\"New York\", \"Los Angeles\", \"Chicago\", \"Houston\", \"Phoenix\"],\n",
    "                      \"Score\": [88, 92, 85, 95, 90]})\n",
    "```\n"
   ]
  },
  {
   "cell_type": "markdown",
   "id": "beca12ed",
   "metadata": {},
   "source": [
    "Y como dijimos antes, podemos mandar a llamar columnas mediante su nombre: ``tabla[\"City\"]``\n",
    "\n",
    "O incluso mandar a llamar solo algunas columnas. Para ello, requerimos utilizar un vector de nombres de columnas o una lista de nombres de columnas:\n",
    "\n",
    "En **R**\n",
    "```r\n",
    "tabla[c(\"City\",\"Name\")]\n",
    "```\n",
    "\n",
    "En **Python**\n",
    "```python\n",
    "tabla[[\"City\",\"Name\"]]\n",
    "```\n",
    "**Observación.**\n",
    "\n",
    "En **Python**, cuando mandas a llamar una sola columna, podrás ver que te aparece información extra. Esto se debe a que las columnas de un dataframe son *series*. Esa información extra nos dice el tipo de datos que forman la columna (``int64`` para enteros, ``object`` para textos, etc).\n",
    "\n",
    "```python\n",
    "tabla[\"city\"]\n",
    "```"
   ]
  },
  {
   "cell_type": "markdown",
   "id": "62f71df7",
   "metadata": {},
   "source": [
    "A su vez, las filas de un dataframe también pueden tener un nombre. Para verlo, observemos el dataframe tanto en **R** como en **Python**:\n",
    "\n",
    "![imagenes](im02.png)"
   ]
  },
  {
   "cell_type": "markdown",
   "id": "a99562a9",
   "metadata": {},
   "source": [
    "Observa que, en ambos casos, a la izquierda aparecen una serie de números. Esto es lo que se conoce como *índices* del dataframe. En cristiano: son los nombres de las filas.\n",
    "\n",
    "Estos nombres pueden ser fácilmente modificados con vectores o listas.\n",
    "\n",
    "En **R**\n",
    "```r\n",
    "rownames(tabla) = c(\"stu01\",\"stu02\",\"stu03\",\"stu04\",\"stu05\")\n",
    "```\n",
    "\n",
    "En **Python**\n",
    "```python\n",
    "tabla.index = [\"stu01\",\"stu02\",\"stu03\",\"stu04\",\"stu05\"]\n",
    "```\n",
    "\n",
    "Observemos el resultado:\n",
    "\n",
    "![imagenes](im03.png)"
   ]
  }
 ],
 "metadata": {
  "kernelspec": {
   "display_name": "Python 3 (ipykernel)",
   "language": "python",
   "name": "python3"
  },
  "language_info": {
   "codemirror_mode": {
    "name": "ipython",
    "version": 3
   },
   "file_extension": ".py",
   "mimetype": "text/x-python",
   "name": "python",
   "nbconvert_exporter": "python",
   "pygments_lexer": "ipython3",
   "version": "3.11.4"
  }
 },
 "nbformat": 4,
 "nbformat_minor": 5
}
