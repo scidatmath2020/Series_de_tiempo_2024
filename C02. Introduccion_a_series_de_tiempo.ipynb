{
 "cells": [
  {
   "cell_type": "markdown",
   "id": "c144a843",
   "metadata": {},
   "source": [
    "![imagenes](logo.png)"
   ]
  },
  {
   "cell_type": "markdown",
   "id": "6c057bcb",
   "metadata": {},
   "source": [
    "# Introducción a las series de tiempo\n",
    "\n",
    "Vamos a comenzar con la definición de **serie temporal**. Una serie de tiempo es una secuencia de información que pone en correspondencia un período de tiempo a cada valor.\n",
    "\n",
    "El valor puede ser prácticamente cualquier cosa medible que dependa del tiempo de alguna manera. Como por ejemplo precios de un producto; la humedad depende del momento temporal; o número de personas en un banco cada hora del día.\n",
    "\n",
    "No existen limitaciones con respecto al tiempo total de nuestras series de tiempo. Puede ser un minuto; un día completo; un mes; un año. Todo lo que necesitamos es un punto de partida y un punto final. \n",
    "\n",
    "Entre esos dos puntos, habrá muchos otros puntos. El intervalo de tiempo entre un punto en el tiempo y el siguiente, se llama período de tiempo.\n",
    "\n",
    "Con qué periodicidad los valores del conjunto de datos se registran, se conoce como la frecuencia del conjunto de datos. \n",
    "\n",
    "![imagenes](im012.png)\n",
    "\n",
    "Para poder analizar series temporales de una manera significativa, todos los períodos de tiempo deben ser iguales y claramente definidos, lo que daría como resultado una frecuencia constante. Esta frecuencia es una medida del tiempo y puede variar desde unos pocos milisegundos hasta varias décadas. Sin embargo, veremos que los más usuales son cada minuto, cada hora, cada día, cada semana, cada mes, cada cuatrimestre, cada año, etc. \n",
    "\n",
    "Además, se espera que los patrones que se observen en las series de tiempo persistan o continúen existiendo en el futuro. Por esa razón, a menudo utilizamos series de tiempo para *predecir el futuro*.\n",
    "\n",
    "![imagenes](im013.png)\n",
    "\n",
    "## Ejemplos\n",
    "\n",
    "### Meteorología\n",
    "\n",
    "![imagenes](im014.png)\n",
    "\n",
    "Un ejemplo muy usual son los datos meteorológicos que suelen hacer frente a la tarea de pronosticar el clima durante varios días hacia el futuro. Para hacer predicciones precisas de manera consistente, hay que analizar datos pasados. Pero claro, si los datos no se ordenan cronológicamente, encontrar el patrón correcto sería extremadamente difícil. Por ejemplo, simplemente\n",
    "conocer la temperatura más alta de los últimos cinco días sería inútil, a menos que sepamos qué valor de temperatura corresponde a cada día.\n",
    "\n",
    "### Negocios\n",
    "\n",
    "![imagenes](im015.png)\n",
    "\n",
    "En el mundo de los negocios los datos de series de tiempo se aplican muchísimo, en análisis de finanzas para los inversores y los propietarios de as empresas. Es crucial determinar si los precios arrojan ganancias y las ventas aumentarán o disminuirán en el futuro. Por lo tanto, un tema común en el análisis de series de tiempo es determinar la estabilidad o la volatilidad\n",
    "de los mercados financieros.\n",
    "\n"
   ]
  },
  {
   "cell_type": "markdown",
   "id": "776de250",
   "metadata": {},
   "source": [
    "## Series estacionarias y no estacionarias\n",
    "\n",
    "### Series estacionarias\n",
    "\n",
    "![imagenes](im016.png)\n",
    "\n",
    "La figura es un ejemplo de una serie estacionaria. Da el rendimiento mensual promedio de la Bolsa de Madrid durante el período de 1988 a 2000 medido por el Índice General. Observe que los valores de la serie parecen moverse alrededor de un rendimiento mensual fijo. No hay tendencias crecientes o decrecientes con el tiempo.\n",
    "\n",
    "### Series no estacionarias\n",
    "\n",
    "![imagenes](im017.png)\n",
    "\n",
    "Sin embargo, este otro ejemplo muestra una serie que, a diferencia de la anterior, no es claramente estable en el tiempo, y es lo que llamamos no estacionario. La serie corresponde a la población española mayor de 16 años, al final de cada trimestre durante el período de 1977 a 2000. Observe en el gráfico que la serie no es estable, ya que su nivel aumenta con el tiempo. Decimos que la serie tiene una tendencia clara y positiva. La mayoría de las series económicas y sociales no son estacionarias (estables) y muestran tendencias. En este caso, la tendencia es aproximadamente lineal, aunque la pendiente de la línea que encajamos en la primera mitad de la muestra sería algo mayor que la que obtendríamos en el segundo. Esto sugiere que quizás el crecimiento anual de la población está cambiando con el tiempo. La tendencia de la serie sería entonces variable en el tiempo en\n",
    "lugar de constante. Esta propiedad es típica en series reales en la práctica, donde es poco probable que observemos una tendencia constante durante largos períodos de observación."
   ]
  },
  {
   "cell_type": "markdown",
   "id": "a7399903",
   "metadata": {},
   "source": [
    "## Notación\n",
    "\n",
    "Recuerda que una variable estadística es una característica que hemos medido, y se representa por una columna de nuestra tabla. Es decir, las variables son las columnas de las tablas.\n",
    "\n",
    "Las variables de una serie de tiempo se representan con letras mayúsculas: $X$, $Y$, $Z$, etcétera. Por ejemplo, los precios del índice S&P500 durante un período de tiempo correspondería a una columna.\n",
    "\n",
    "Todo el período de tiempo, desde el inicio hasta el final, se representa por la letra $T$. Por ejemplo, si recogemos datos diariamente desde el 28 de enero del 2000 hasta el 30 mayo del 2024, entonces todo ese período de tiempo será $T$.\n",
    "\n",
    "En tanto que la $t$ minúscula sirve para describir una unidad de tiempo en el período completo $T$. Por ejemplo, el 15 de mayo del 2020. \n",
    "\n",
    "Así, $X_t$ significa el valor recogido en el periodo $t$. Y entonces $X_{t-2}$, $X_{t-1}$ y $X_t$ son tres valores consecutivos en el tiempo. Así, generalmente el valor $X_t$ representa la característica (columna) $X$ en el período $t$ (el renglón número $t$ de la tabla)."
   ]
  },
  {
   "cell_type": "markdown",
   "id": "4f73c721",
   "metadata": {},
   "source": [
    "## Peculiariedades\n",
    "\n",
    "Como ya mencionamos, los intervalos de tiempo entre recolección de datos deben ser iguales. Sin embargo, puede suceder que falten algunos valores para algunos momentos de tiempo específicos, por lo cual los períodos ya no serían iguales.\n",
    "\n",
    "![imagenes](im018.png)"
   ]
  },
  {
   "cell_type": "markdown",
   "id": "e7c93c7c",
   "metadata": {},
   "source": [
    "Con las series de tiempo, lidiar con valores faltantes puede ser mas complejo en comparación con otro tipo de análisis. Esto se puede explicar por el hecho de que los valores entre tiempos consecutivos generalmente se relacionan entre sí.\n",
    "\n",
    "Otra peculiaridad es que podemos ajustar la frecuencia de un conjunto de datos dependiendo de los valores que nos interesen. Por ejemplo, si tenemos datos diarios pero queremos realizar un análisis mes a mes podríamos calcular un promedio de todos los valores correspondientes a un mismo mes para obtener datos de los meses.\n",
    "\n",
    "![imagenes](im019.png)"
   ]
  },
  {
   "cell_type": "markdown",
   "id": "9bcf0574",
   "metadata": {},
   "source": [
    "Incluso a veces requerimos hacer el proceso contrario: aumentar la frecuencia, y por lo tanto aumentar el número de períodos. Por ejemplo, si tenemos los datos día y nos interesa conocerlos por cada 12 horas, requeriremos técnicas para realizar este ajuste.\n",
    "\n",
    "Más aún, es claro que las series de tiempo requieren un orden cronológico. Desde el punto de vista del Machine Learning este es un inconveniente pesado, porque no podemos barajar libremente los datos para separarlos por entrenamiento y prueba. Por lo tanto lo que se hace es elegir un punto de corte conveniente en el tiempo, y tomar los datos previos a ese corte como datos de entrenamiento, y los datos posteriores como datos de prueba\n",
    "\n",
    "![imagenes](im020.png)"
   ]
  }
 ],
 "metadata": {
  "kernelspec": {
   "display_name": "Python 3 (ipykernel)",
   "language": "python",
   "name": "python3"
  },
  "language_info": {
   "codemirror_mode": {
    "name": "ipython",
    "version": 3
   },
   "file_extension": ".py",
   "mimetype": "text/x-python",
   "name": "python",
   "nbconvert_exporter": "python",
   "pygments_lexer": "ipython3",
   "version": "3.11.4"
  }
 },
 "nbformat": 4,
 "nbformat_minor": 5
}
