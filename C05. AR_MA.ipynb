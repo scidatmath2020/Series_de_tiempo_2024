{
 "cells": [
  {
   "cell_type": "markdown",
   "id": "cc09d3bf",
   "metadata": {},
   "source": [
    "![imagenes](logo.png)"
   ]
  },
  {
   "cell_type": "markdown",
   "id": "af15be8e",
   "metadata": {},
   "source": [
    "## Modelos autorregresivos: AR\n",
    "\n",
    "A menudo observamos similitudes entre valores pasados y valores presentes. Esto se debe a que hay una correlación entre dichos datos. De esta manera por ejemplo, si conocemos los precios de un producto el día de hoy, podríamos predecir el precio para el día de mañana.\n",
    "\n",
    "Esto nos permite definir los **modelos autorregresivos: AR**. Este modelo se basa en que el conocimiento de valores pasados actúa linealmente en los valores presentes.\n",
    "\n",
    "$$AR(1):\\,X_t=c+\\varphi_1X_{t-1}+\\varepsilon_t$$\n",
    "\n",
    "$$AR(2):\\,X_t=c+\\varphi_1X_{t-1}+\\varphi_2X_{t-2}+\\varepsilon_t$$\n",
    "\n",
    "$$AR(p):\\,X_t=c+\\varphi_1X_{t-1}+\\varphi_2X_{t-2}+...+\\varphi_pX_{t-p}+\\varepsilon_t$$"
   ]
  },
  {
   "cell_type": "markdown",
   "id": "4ba90ecc",
   "metadata": {},
   "source": [
    "Ahora bien, entre mayor sea $p$, introduciremos más complejidad al modelo y tendremos que calcular más coeficientes $\\varphi_i$. No obstante, puede ser que algunos de esos coeficientes ya no sean significativos, de modo que no tendrían efecto en el modelo. Por ejemplo, el clima de hoy depende del de ayer; del de hace dos días; etc. Pero seguramente no depende del clima que hubo hace 6 meses, de modo que no nos conviene una $p$ tan grande.\n",
    "\n",
    "Para seleccionar una $p$ confiable, nos valdremos de la autocorrelación. Además es importante saber que estos modelos no funcionan tan bien cuando no hay estacionariedad.\n",
    "\n",
    "![imagenes](im029.png)"
   ]
  },
  {
   "cell_type": "markdown",
   "id": "6e898b82",
   "metadata": {},
   "source": [
    "# Modelos de medias móviles: MA\n",
    "\n",
    "Ahora vamos a conocer otro modelo de estudio: los modelos de medias móviles. Son una clase de modelos estadísticos utilizados en series temporales para modelar la dependencia lineal entre un punto actual y errores pasados (también llamados \"ruido blanco\"). \n",
    "\n",
    "En el caso más simple, el modelo tiene la forma \n",
    "\n",
    "$$X_t=c+\\theta_1 \\varepsilon_{t-1}+\\varepsilon_t$$\n",
    "\n",
    "En tanto que en su forma más general son \n",
    "\n",
    "$$X_t=c+\\theta_1 \\varepsilon_{t-1}+\\theta_2\\varepsilon_{t-2}+...+\\theta_q\\varepsilon_{t-q}+\\varepsilon_t$$\n",
    "\n",
    "A diferencia de los modelos autoregresivos (AR), donde los efectos pasados pueden propagarse indefinidamente, en los modelos MA el impacto de un error pasado desaparece después de $q$ periodos. Todos los modelos MA son inherentemente estacionarios, ya que no dependen de valores pasados de la serie en sí, sino solo de errores pasados. Las autocorrelaciones (ACF) de un modelo MA de orden $q$ son diferentes de cero solo para los primeros $q$ retardos y se vuelven cero para retardos mayores. Este es un rasgo clave para identificar $q$ en datos reales."
   ]
  },
  {
   "cell_type": "markdown",
   "id": "ea812127",
   "metadata": {},
   "source": [
    "![imagenes](im030.png)"
   ]
  }
 ],
 "metadata": {
  "kernelspec": {
   "display_name": "Python 3 (ipykernel)",
   "language": "python",
   "name": "python3"
  },
  "language_info": {
   "codemirror_mode": {
    "name": "ipython",
    "version": 3
   },
   "file_extension": ".py",
   "mimetype": "text/x-python",
   "name": "python",
   "nbconvert_exporter": "python",
   "pygments_lexer": "ipython3",
   "version": "3.11.4"
  }
 },
 "nbformat": 4,
 "nbformat_minor": 5
}
